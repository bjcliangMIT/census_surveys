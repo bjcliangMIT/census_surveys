{
 "cells": [
  {
   "cell_type": "code",
   "execution_count": 1,
   "metadata": {},
   "outputs": [],
   "source": [
    "import time, os, json, PyPDF2, re\n",
    "import pandas as pd"
   ]
  },
  {
   "cell_type": "markdown",
   "metadata": {},
   "source": [
    "# PDF -> Text"
   ]
  },
  {
   "cell_type": "code",
   "execution_count": 2,
   "metadata": {},
   "outputs": [],
   "source": [
    "def read_pdf2012(pdf_path, r, name):\n",
    "    with open(pdf_path, 'rb') as file:\n",
    "        reader = PyPDF2.PdfReader(file)\n",
    "        text = '\\n'.join([i.extract_text().replace('\\t', ' ') for i in reader.pages])\n",
    "    r[name] = text"
   ]
  },
  {
   "cell_type": "code",
   "execution_count": 3,
   "metadata": {},
   "outputs": [
    {
     "name": "stdout",
     "output_type": "stream",
     "text": [
      "/Users/bjcliang/Desktop/Nate/Census/Surveys2012/OS-81207.pdf\r"
     ]
    }
   ],
   "source": [
    "pdf_directory = '/Users/bjcliang/Desktop/Nate/Census/Surveys2012'\n",
    "record = dict()\n",
    "\n",
    "for pdf_file in os.listdir(pdf_directory):\n",
    "    if pdf_file.endswith('.pdf'):\n",
    "        pdf_path = os.path.join(pdf_directory, pdf_file)\n",
    "        print(pdf_path, end = '\\r')\n",
    "        read_pdf2012(pdf_path, record, pdf_file)\n",
    "with open('/Users/bjcliang/Desktop/Nate/Census/Surveys2012/rec.json', 'w') as json_file:\n",
    "    json.dump(record, json_file)"
   ]
  },
  {
   "cell_type": "markdown",
   "metadata": {},
   "source": [
    "# Clean Data"
   ]
  },
  {
   "cell_type": "code",
   "execution_count": 1,
   "metadata": {},
   "outputs": [],
   "source": [
    "import time, os, json, PyPDF2, re, docx\n",
    "import pandas as pd\n",
    "from docx.oxml.ns import qn\n",
    "from docx.shared import Pt"
   ]
  },
  {
   "cell_type": "code",
   "execution_count": 2,
   "metadata": {},
   "outputs": [],
   "source": [
    "def general_process(text):\n",
    "    def find_variations_with_spaces(sp, text):\n",
    "        sp = sp.strip().split(' ')\n",
    "        pattern = r'\\s*'.join(sp)\n",
    "        matches = re.findall(pattern, text)\n",
    "        return matches\n",
    "\n",
    "    # Pattern to match: 'Form' followed by letters, dashes, numbers, and a date in parentheses\n",
    "    text = re.sub('\\n', ' ', text)\n",
    "    pattern = r'Form [A-Z0-9\\-]+ \\(\\d{1,2}-\\d{1,2}-\\d{4}\\)'\n",
    "    text = re.sub(pattern, '', text)\n",
    "    text = ' '.join(text.split())\n",
    "    pattern = r'CONTINUE WITH[\\w\\s\\-]+- Continued'\n",
    "    text = re.sub(pattern, '', text)\n",
    "    pattern = r'CONTINUE ON PAGE[\\d\\s]+'\n",
    "    text = re.sub(pattern, '', text)\n",
    "    pattern = r'Page[\\d\\s]+'\n",
    "    text = re.sub(pattern, '', text)\n",
    "    text = re.sub('INFORMATION COPY DO NOT USE TO REPORT', '', text)\n",
    "    text = text.split('(Mark \"X\" only ONE box.')[0]\n",
    "    text = text.split('Mark \"X\" only ONE box.')[0]\n",
    "    text = re.sub(r'(?:\\. ){3,}', ' ', text)\n",
    "    \n",
    "    text = text.replace('HOW TO REPORTPERCENTS', '\\nHOW TO REPORTPERCENTS')\n",
    "    text = re.sub(r'CONTINUE WITH \\d{1,2} ON PAGE \\d{1,2}', ' ', text)\n",
    "    text = re.sub('Line', '\\nLine', text)\n",
    "\n",
    "    text = re.sub(r' (\\(\\d+\\))', r'\\n\\1', text)\n",
    "    text = re.sub(r'(\\s\\d+\\.\\s)', r'\\n\\1', text)\n",
    "    text = re.sub(r'(\\s[a-z]\\. )', r'\\n\\1', text)\n",
    "     \n",
    "    \n",
    "    pattern = r'\\b\\d+\\s*(?:-\\s*|\\band\\b\\s*)\\s*\\d+\\s*Not Applicable\\.\\s*'\n",
    "    text = re.sub(pattern, '', text)\n",
    "    text = re.sub(r'\\b\\d+\\s+Not Applicable\\.\\s*', '', text)\n",
    "    text = re.sub(r'\\b\\d{8}\\b', '', text)\n",
    "    text = re.sub('A. ', '', text)\n",
    "    #text = re.sub('-', '', text)\n",
    "    text = re.sub('8 –', '', text)\n",
    "    text = re.sub('Internal RevenueService', 'Internal Revenue Service', text)\n",
    "    \n",
    "    text = text.replace('If not shown, please enter your 11-digit Census File Number (CFN) from the mailing address.', ' ')\n",
    "    text = text.replace('Description of sales, shipments, receipts, or revenue 2012 Report thousands of dollars OR whole percents. Estimates are acceptable. $ Bil. Mil. Thou. Percent', '')\n",
    "    \n",
    "    text = '\\n'.join([i for i in text.split('\\n') if len(i.strip())>3])\n",
    "    text = ' '.join([i for i in text.split(' ') if len(i)>0])\n",
    "    text = re.sub(r'\\s+\\d+$', '', text.strip())\n",
    "    \n",
    "    sp = 'HOW TO REPORT DOLLAR FIGURES'\n",
    "    for ff in find_variations_with_spaces(sp, text):\n",
    "        text = text.replace(ff, sp)\n",
    "    \n",
    "    return text.strip()"
   ]
  },
  {
   "cell_type": "code",
   "execution_count": 3,
   "metadata": {},
   "outputs": [],
   "source": [
    "def find_variations_with_spaces(sp, text):\n",
    "        sp = sp.strip().split(' ')\n",
    "        pattern = r'\\s*'.join(sp)\n",
    "        matches = re.findall(pattern, text)\n",
    "        return matches"
   ]
  },
  {
   "cell_type": "code",
   "execution_count": 4,
   "metadata": {},
   "outputs": [],
   "source": [
    "def find_splitters(text):\n",
    "    #pattern = r'\\d{1,2}\\n [A-Z ,0-9]+\\n'\n",
    "    target = re.findall(r'\\d{1,2}\\n [A-Z, ]+\\n', text)\n",
    "    target = target + re.findall(r'\\b\\d{1,2}\\n [A-Z, -]+(?: - Continued)?\\n', text)\n",
    "    #pattern = r'\\d+\\n[A-Z ]+\\n'\n",
    "    #target = target + re.findall(pattern, text) \n",
    "    tar = []\n",
    "    for i in target:\n",
    "        check = True\n",
    "        for k in ['DUE', 'HOW TO', 'INFORMATION COPY', '2012', '\\n ON\\n', \n",
    "                  'ECONOMIC', 'EXAMPLE', 'DAYS', 'CONTINUE', 'Continued']:\n",
    "            if k in i:\n",
    "                check = False\n",
    "        #if not bool(re.match(r'^[A-Za-z\\s]+$', i[3:])): check = False\n",
    "        if check:\n",
    "            n = i.replace('\\n', '')\n",
    "            n = ' '.join([k for k in n.split(' ') if len(k)>1])\n",
    "            if len(n)>5:\n",
    "                tar.append(i)\n",
    "                \n",
    "    if '30\\n CERTIFICATION' in text: tar.append('30\\n CERTIFICATION')\n",
    "    \n",
    "    return sorted(set(tar), key = lambda x:int(x[:2]))"
   ]
  },
  {
   "cell_type": "code",
   "execution_count": 5,
   "metadata": {},
   "outputs": [],
   "source": [
    "record = json.load(open('/Users/bjcliang/Desktop/Nate/Census/Surveys2012/rec.json'))"
   ]
  },
  {
   "cell_type": "code",
   "execution_count": 6,
   "metadata": {},
   "outputs": [],
   "source": [
    "rec_new = dict()\n",
    "for survey in record:\n",
    "    text = record[survey]\n",
    "    splts = find_splitters(text)\n",
    "    prev = text\n",
    "    for sp in splts[::-1]:\n",
    "        tt = text.split(sp)[-1]\n",
    "        prev = prev[:-len(tt)]\n",
    "        item = sp.replace('\\n', '')\n",
    "        item = ' '.join([i for i in item.split(' ') if len(i)>0])\n",
    "        if item not in rec_new: rec_new[item] = dict()\n",
    "        \n",
    "        for other in [i.split('\\n')[1].strip() for i in splts if i not in sp]:\n",
    "            tt = tt.split(other)[0]\n",
    "        \n",
    "        tt = general_process(tt)\n",
    "        \n",
    "        if tt not in rec_new[item]: rec_new[item][tt] = []\n",
    "\n",
    "        rec_new[item][tt].append(survey)"
   ]
  },
  {
   "cell_type": "code",
   "execution_count": 7,
   "metadata": {},
   "outputs": [
    {
     "data": {
      "text/plain": [
       "dict_keys(['30 CERTIFICATION', '22 DETAIL OF SALES, SHIPMENTS, RECEIPTS, OR REVENUE', '19 KIND OF BUSINESS OR ACTIVITY', '7 EMPLOYMENT AND PAYROLL', '5 SALES, SHIPMENTS, RECEIPTS, OR REVENUE', '4 MONTHS IN OPERATION', '3 OPERATIONAL STATUS', '2 PHYSICAL LOCATION', '1 EMPLOYER IDENTIFICATION NUMBER', '26 SPECIAL INQUIRIES', '25 EXPORTED SERVICES', '20 CLASS OF CUSTOMER', '19 KIND OF BUSINESS', '22 DETAIL OF REVENUE OR RECEIPTS', '5 REVENUE OR RECEIPTS', '21 SUPPORT SERVICES', '25 EXPORTS OF GOODS AND SERVICES', '10 INVENTORIES BY VALUATION METHOD', '9 VALUE OF INVENTORIES', '16 SELECTED EXPENSES', '28 LOCATIONS OF OPERATION'])"
      ]
     },
     "execution_count": 7,
     "metadata": {},
     "output_type": "execute_result"
    }
   ],
   "source": [
    "rec_new.keys()"
   ]
  },
  {
   "cell_type": "code",
   "execution_count": 59,
   "metadata": {},
   "outputs": [],
   "source": [
    "def create_word_document_from_dict(data, path):\n",
    "    doc = docx.Document()\n",
    "    doc.add_heading('Economic Census Surveys 2012 (Services)', level=1)\n",
    "    \n",
    "    for superitem in sorted(data.keys(), key = lambda x: int(x[:2])):\n",
    "        \n",
    "        doc.add_heading(\"ITEM \" + superitem, level=2)\n",
    "        for item_index, (item, details) in enumerate(data[superitem].items(), start=1):\n",
    "            doc.add_paragraph(item).style='List Bullet'\n",
    "            \n",
    "            surveys = ', '.join(details)\n",
    "            p = doc.add_paragraph()\n",
    "            p = p.add_run(f'Surveys included: {surveys}')\n",
    "            p.font.size = Pt(9)\n",
    "                #p.italic = True   \n",
    "\n",
    "    # Save the document\n",
    "    doc.save(path)\n",
    "\n",
    "create_word_document_from_dict(rec_new, 'Economic Census Surveys 2012 new.docx')"
   ]
  },
  {
   "cell_type": "code",
   "execution_count": 136,
   "metadata": {},
   "outputs": [],
   "source": [
    "def clean_specialq(text, names, r):\n",
    "    \n",
    "    if 'PROFESSIONEMPLOYER' in text:\n",
    "    #if 'MN-55102.pdf' in names:\n",
    "        print(names, text)\n",
    "        print('------')\n",
    "    nnames = [n for n in names]\n",
    "    exl1 = '– REMARKS (Please use this space for any explanations that may be essential in understanding your reported data.) PLEASE PHOTOCOPY THIS FORM FOR YOUR RECORDS AND RETURN THE ORIGINAL. Thank you for completing your 2012 ECONOMIC CENSUS form. Date completed E-mail address Month Day Year Tele- phone -- - Fax -- Area code Number Extension Area code Number Name of person to contact regarding this report Title Is the time period covered by this report acalendar year? Yes No - Enter time period covered Month Year Month Year FROM TO'\n",
    "    exl = '– REMARKS (Please use this space for any explanations that may be essential in understanding your reported data.) PLEASE PHOTOCOPY THIS FORM FOR YOUR RECORDS AND RETURN THE ORIGINAL. Thank you for completing your 2012 ECONOMIC CENSUS form. Datecompleted E-mail address Month Day Year Tele- phone -- - Fax -- Area code Number Extension Area code Number Name of person to contact regarding this report Title Is the time period covered by this report acalendar year? Yes No - Enter time period covered Month Year Month Year FROM TO'\n",
    "    text = text.replace(exl, '')\n",
    "    text = text.replace(exl1, '')\n",
    "    text = text.replace('SPECIINQUIRIES - Continued', '')\n",
    "    matches = [match.strip() for match in re.findall(r'[A-Z\\s,/.]+', text) if match.strip()]\n",
    "    matches = [re.sub(r'\\s[A-Z]$', '', i) for i in matches]\n",
    "    \n",
    "    \n",
    "    def clean_m(text):\n",
    "        a = text.replace(',', ' ').replace('.', ' ')\n",
    "        return ' '.join([i.strip() for i in a.split(' ') if len(i.strip())>1])\n",
    "    \n",
    "    matches = [(i, clean_m(i)) for i in matches if (len(i.strip())>1)]\n",
    "    #print(matches)\n",
    "    \n",
    "    for d in [\"INQUIRIES\", 'TOT', 'IRS', 'NONE', 'DVD']:\n",
    "        matches = [(i, j) for (i, j) in matches if (d not in j)]\n",
    "    \n",
    "    neg = ['ROM', 'NOT', 'PEO', 'LESS','LONG', 'DISTANCE', \n",
    "           'LOC', 'OR', 'ROM,', 'CD','/P', 'ONE', 'SEPARATE', 'UNDER CONTRACT']\n",
    "    matches = [(i, j) for (i, j) in matches if (j not in neg)]\n",
    "    \n",
    "    def remove_single(text):\n",
    "        return ' '.join([i for i in text.split('.') if len(i.strip())>1])\n",
    "    \n",
    "    matches = [(i, j) for (i, j) in matches if len(remove_single(j))>0]\n",
    "   \n",
    "\n",
    "    prev = text\n",
    "    #r = []\n",
    "    for org, m in matches[::-1]:\n",
    "        tt = prev.split(org)[-1]\n",
    "        prev = prev.split(org)[0]\n",
    "        tt = tt.strip()\n",
    "        tt = re.sub(r' \\d+$', '', tt)\n",
    "        #if tt == t: \n",
    "        #    print(names)\n",
    "                    \n",
    "        #m = ' '.join([i.strip() for i in m.replace(',', '').replace('.', '').split(' ') if len(i)>1])\n",
    "        #r.append((m, tt))\n",
    "        \n",
    "        if m not in r:r[m] = dict()\n",
    "        if tt not in r[m]: r[m][tt] = []\n",
    "        r[m][tt].extend(nnames)\n",
    "    #return r"
   ]
  },
  {
   "cell_type": "code",
   "execution_count": 119,
   "metadata": {},
   "outputs": [],
   "source": [
    "doc = docx.Document()\n",
    "for m in rec_special:\n",
    "    doc.add_heading(m, level=3)\n",
    "    #print(m)\n",
    "    for tt in rec_special[m]:\n",
    "        doc.add_paragraph(tt).style='List Bullet'\n",
    "        surveys = ', '.join(rec_special[m][tt])\n",
    "        p = doc.add_paragraph()\n",
    "        p = p.add_run(f'Surveys included: {surveys}')\n",
    "        p.font.size = Pt(9)\n",
    "doc.save('Economic Census Surveys 2012 new.docx')"
   ]
  },
  {
   "cell_type": "code",
   "execution_count": null,
   "metadata": {},
   "outputs": [],
   "source": []
  }
 ],
 "metadata": {
  "kernelspec": {
   "display_name": "Python 3",
   "language": "python",
   "name": "python3"
  },
  "language_info": {
   "codemirror_mode": {
    "name": "ipython",
    "version": 3
   },
   "file_extension": ".py",
   "mimetype": "text/x-python",
   "name": "python",
   "nbconvert_exporter": "python",
   "pygments_lexer": "ipython3",
   "version": "3.8.5"
  }
 },
 "nbformat": 4,
 "nbformat_minor": 4
}
