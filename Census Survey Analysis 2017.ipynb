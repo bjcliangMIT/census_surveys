{
 "cells": [
  {
   "cell_type": "code",
   "execution_count": 1,
   "metadata": {},
   "outputs": [],
   "source": [
    "import time, os, json, PyPDF2, re\n",
    "import pandas as pd"
   ]
  },
  {
   "cell_type": "markdown",
   "metadata": {},
   "source": [
    "# PDF -> Text"
   ]
  },
  {
   "cell_type": "code",
   "execution_count": 2,
   "metadata": {},
   "outputs": [],
   "source": [
    "def read_pdf2017(pdf_path, r, name):\n",
    "    with open(pdf_path, 'rb') as file:\n",
    "        reader = PyPDF2.PdfReader(file)\n",
    "        texts = [i.extract_text().replace('\\t', ' ') for i in reader.pages]\n",
    "    clean = texts[0].split('Location Information')[0]\n",
    "    #print(clean)\n",
    "    txt_temp = ''\n",
    "    code = ''\n",
    "    lastcode = ''\n",
    "    for i in texts:\n",
    "        sent = i.replace(clean, '')\n",
    "        for k in sent.split('\\n'):\n",
    "            if 'ITEM' in k: \n",
    "                code = k.split(':')[0]\n",
    "                code = ' '.join(code.split())\n",
    "                if '.' in code: code = code.split('.')[-1]\n",
    "                #print('----', k)\n",
    "                #if lastcode == 'ITEM 3': print('-----', txt_temp)\n",
    "                if lastcode not in r: r[lastcode] = []\n",
    "                if len(txt_temp)!=0:\n",
    "                    r[lastcode].append(name + '\\n\\n\\n' + txt_temp)\n",
    "                    txt_temp = ''\n",
    "                    lastcode = code\n",
    "            else:\n",
    "                txt_temp = txt_temp+'\\n'+k"
   ]
  },
  {
   "cell_type": "code",
   "execution_count": 3,
   "metadata": {},
   "outputs": [
    {
     "name": "stdout",
     "output_type": "stream",
     "text": [
      "/Users/bjcliang/Desktop/Nate/Census/Surveys2017/AS-56210MU.pdf\r"
     ]
    }
   ],
   "source": [
    "pdf_directory = '/Users/bjcliang/Desktop/Nate/Census/Surveys2017'\n",
    "record = {'':[]}\n",
    "\n",
    "for pdf_file in os.listdir(pdf_directory):\n",
    "    if pdf_file.endswith('.pdf'):\n",
    "        pdf_path = os.path.join(pdf_directory, pdf_file)\n",
    "        print(pdf_path, end = '\\r')\n",
    "        read_pdf2017(pdf_path, record, pdf_file)\n",
    "with open('/Users/bjcliang/Desktop/Nate/Census/Surveys2017/rec.json', 'w') as json_file:\n",
    "    json.dump(record, json_file)"
   ]
  },
  {
   "cell_type": "markdown",
   "metadata": {},
   "source": [
    "# Clean Data"
   ]
  },
  {
   "cell_type": "code",
   "execution_count": 1,
   "metadata": {},
   "outputs": [],
   "source": [
    "import time, os, json, PyPDF2, re, docx\n",
    "import pandas as pd"
   ]
  },
  {
   "cell_type": "code",
   "execution_count": 25,
   "metadata": {},
   "outputs": [],
   "source": [
    "def general_process(text):\n",
    "    def replace_repeated_num(text):\n",
    "        pattern = r'(\\b\\d\\.\\s)+'\n",
    "        def replacement(match):\n",
    "            number = match.group(1).strip()\n",
    "            return f'\\n{number}'\n",
    "        return re.sub(pattern, replacement, text)\n",
    "    \n",
    "    def replace_repeated_string(text):\n",
    "        pattern = r'(\\b[A-Za-z\\s]+[A-Za-z]+\\.\\s)\\1+'\n",
    "\n",
    "        def replacement(match):\n",
    "            # Extract the first occurrence\n",
    "            first_occurrence = match.group(1)\n",
    "            return f'{first_occurrence.strip()}\\n'\n",
    "        return re.sub(pattern, replacement, text)\n",
    "    \n",
    "    \n",
    "    text = re.sub(r'\\s+', ' ', text)\n",
    "    text = replace_repeated_num(text)\n",
    "    text = replace_repeated_string(text)\n",
    "    text = re.sub('\\n', ' ', text)\n",
    "    pattern = r'\\n.*\\.pdf Generated at \\d{4}-\\d{2}-\\d{2} \\d{2}:\\d{2} [APM]{2}.*\\n'\n",
    "    text = re.sub(pattern, '', text)\n",
    "    text = text.split('Do Not Submit')[0]\n",
    "    #pattern = r'\\b(?!ZIP|EIN|CFN|IRS|LONG|DISTANCE|LOCAL|TOTAL)([A-Z]{2,}\\b(?:\\s[A-Z]{2,}\\b)*)'\n",
    "    #text = re.sub(pattern, r'\\n\\1', text)\n",
    "    text = text.split('Select ALL that apply.')[0]\n",
    "    text = text.split('Description Description Value Value Product Code Product Code')[0]\n",
    "    text = text.split('Select only ONE.')[0]\n",
    "    \n",
    "    text = re.sub('INSTRUCTIONS FOR ADMINISTRATIVE EXPENSES', '\\nINSTRUCTIONS FOR ADMINISTRATIVE EXPENSES ', text)\n",
    "    pattern = r'(\\b\\w+\\. )(\\1)+'\n",
    "    text = re.sub(pattern, r'\\1', text)\n",
    "    pattern = r'(\\d+\\.\\s*[A-Z])'\n",
    "    text = re.sub(pattern, r'\\n\\1', text)\n",
    "    \n",
    "    sp = 'HOW TO REPORT DOLLAR FIGURES'\n",
    "    text.replace(find_variations_with_spaces(sp, text)[0], sp)\n",
    "    \n",
    "    return text.strip()"
   ]
  },
  {
   "cell_type": "code",
   "execution_count": 3,
   "metadata": {},
   "outputs": [
    {
     "data": {
      "text/plain": [
       "dict_keys(['', 'ITEM 1', 'ITEM 3', 'ITEM 4', 'ITEM 5', 'ITEM 7', 'ITEM 8', 'ITEM 16', 'ITEM 17', 'ITEM 20', 'ITEM 22', 'ITEM 31', 'ITEM 2', 'ITEM 25', 'ITEM 26', 'ITEM 28', 'ITEM 32', 'ITEM 33', 'ITEM 33A', 'ITEM 33B', 'ITEM 9', 'ITEM 10', 'ITEM 17A', 'ITEM 17B', 'ITEM 27', 'ITEM 5A', 'ITEM 5B'])"
      ]
     },
     "execution_count": 3,
     "metadata": {},
     "output_type": "execute_result"
    }
   ],
   "source": [
    "record = json.load(open('/Users/bjcliang/Desktop/Nate/Census/Surveys2017/rec.json'))\n",
    "record.keys()"
   ]
  },
  {
   "cell_type": "code",
   "execution_count": 4,
   "metadata": {},
   "outputs": [],
   "source": [
    "rec_new = dict()\n",
    "for item in record:\n",
    "    if item == '': pass\n",
    "        #rec_new['Introduction'] = dict()\n",
    "        #for txt in record[item]:\n",
    "            #name, t = txt.split('.pdf\\n\\n\\n')\n",
    "            #t = general_process(t)\n",
    "            #print(t)\n",
    "            #if t not in rec_new['Introduction']: rec_new['Introduction'][t] = []\n",
    "            #rec_new['Introduction'][t].append(name)\n",
    "    else:\n",
    "        pattern = r'(\\d+)[A-Za-z]+'\n",
    "        superitem = re.sub(pattern, r'\\1', item)\n",
    "        if superitem not in rec_new: rec_new[superitem] = dict()\n",
    "            \n",
    "        \n",
    "        #if item not in rec_new[superitem]: rec_new[superitem][item] = dict()\n",
    "        for txt in record[item]:\n",
    "            #print(txt)\n",
    "            name, t = txt.split('.pdf\\n\\n\\n')\n",
    "            t = item + ': ' + general_process(t)\n",
    "            if t not in rec_new[superitem]: rec_new[superitem][t] = []\n",
    "            rec_new[superitem][t].append(name)"
   ]
  },
  {
   "cell_type": "code",
   "execution_count": 11,
   "metadata": {},
   "outputs": [],
   "source": [
    "from docx.oxml.ns import qn\n",
    "from docx.shared import Pt\n",
    "\n",
    "def create_word_document_from_dict(data, path):\n",
    "    doc = docx.Document()\n",
    "    doc.add_heading('Surveys 2017', level=1)\n",
    "    \n",
    "    for superitem_index, (superitem, items) in enumerate(data.items(), start=1):\n",
    "        doc.add_heading(f'{superitem_index}. {superitem}', level=2)\n",
    "        \n",
    "        for item_index, (item, details) in enumerate(items.items(), start=1):\n",
    "            \n",
    "            #p = doc.add_paragraph(style='ListBullet')\n",
    "            #sentences = item.split('. ')\n",
    "            #for sentence in sentences:\n",
    "            #    if sentence.endswith('?'):\n",
    "            #        run = p.add_run(sentence + '. ')\n",
    "            #        run.font.highlight_color = docx.enum.text.WD_COLOR_INDEX.YELLOW\n",
    "            #    else:\n",
    "            #        p.add_run(sentence + '. ')\n",
    "            \n",
    "            doc.add_paragraph(item).style='ListBullet'\n",
    "            \n",
    "            surveys = ', '.join(details)\n",
    "            p = doc.add_paragraph()\n",
    "            p = p.add_run(f'Surveys included: {surveys}')\n",
    "            p.font.size = Pt(9)\n",
    "            #p.italic = True   \n",
    "\n",
    "    # Save the document\n",
    "    doc.save(path)\n",
    "\n"
   ]
  },
  {
   "cell_type": "code",
   "execution_count": 12,
   "metadata": {},
   "outputs": [],
   "source": [
    "create_word_document_from_dict(rec_new, 'Economic Census Surveys 2017.docx')"
   ]
  },
  {
   "cell_type": "code",
   "execution_count": 134,
   "metadata": {},
   "outputs": [],
   "source": []
  },
  {
   "cell_type": "code",
   "execution_count": null,
   "metadata": {},
   "outputs": [],
   "source": []
  }
 ],
 "metadata": {
  "kernelspec": {
   "display_name": "Python 3",
   "language": "python",
   "name": "python3"
  },
  "language_info": {
   "codemirror_mode": {
    "name": "ipython",
    "version": 3
   },
   "file_extension": ".py",
   "mimetype": "text/x-python",
   "name": "python",
   "nbconvert_exporter": "python",
   "pygments_lexer": "ipython3",
   "version": "3.8.5"
  }
 },
 "nbformat": 4,
 "nbformat_minor": 4
}
