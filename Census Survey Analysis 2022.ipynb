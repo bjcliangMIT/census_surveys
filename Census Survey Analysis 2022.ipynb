{
 "cells": [
  {
   "cell_type": "code",
   "execution_count": 1,
   "metadata": {},
   "outputs": [],
   "source": [
    "import time, os, json, PyPDF2, re\n",
    "import pandas as pd"
   ]
  },
  {
   "cell_type": "markdown",
   "metadata": {},
   "source": [
    "# PDF -> Text"
   ]
  },
  {
   "cell_type": "code",
   "execution_count": 2,
   "metadata": {},
   "outputs": [],
   "source": [
    "def read_pdf2022(pdf_path, r, name):\n",
    "    \n",
    "    with open(pdf_path, 'rb') as file:\n",
    "        reader = PyPDF2.PdfReader(file)\n",
    "        texts = '\\t'.join([i.extract_text() for i in reader.pages])\n",
    "        lastcode = ''; code = ''\n",
    "        title = ''; lasttitle = ''\n",
    "        txt_temp = ''\n",
    "        \n",
    "        for txt in texts.split('\\n'):\n",
    "            if 'ITEM' in txt:\n",
    "                #print(txt)\n",
    "                spl = ':' if ':' in txt else '-'\n",
    "                for k in txt.split(spl):\n",
    "                    #print(k, txt_temp)\n",
    "                    if 'ITEM ' in k:\n",
    "                        code = k.strip().replace('.', '')\n",
    "                        sp = code.split('ITEM')\n",
    "                        if len(sp)>2:\n",
    "                            addtext = sp[0]\n",
    "                            code = 'ITEM '+sp[0]\n",
    "                        if code.strip() == '': print(k)\n",
    "                        if code not in r: r[code] = dict()\n",
    "\n",
    "                    else:\n",
    "                        title = k.strip()\n",
    "                        #print(title)\n",
    "                        #if code not in rec: rec[code] = dict()\n",
    "                        if title not in r[code]: r[code][title] = []\n",
    "                        \n",
    "                #print(lastcode, '/', lasttitle)\n",
    "                #txt_temp = txt_temp.split('2022_')[0]\n",
    "                try: r[lastcode][lasttitle].append(name+'\\t\\t\\t'+txt_temp)\n",
    "                except KeyError:\n",
    "                    print(name)\n",
    "                    pass\n",
    "                lastcode = code\n",
    "                lasttitle = title\n",
    "                txt_temp = ''\n",
    "            else:\n",
    "                txt_temp = txt_temp+'\\n'+txt\n",
    "        r['last'] = txt_temp"
   ]
  },
  {
   "cell_type": "code",
   "execution_count": 3,
   "metadata": {},
   "outputs": [
    {
     "name": "stdout",
     "output_type": "stream",
     "text": [
      "/Users/bjcliang/Desktop/Nate/Census/Surveys2022/AS-56210MU.pdf\r"
     ]
    }
   ],
   "source": [
    "pdf_directory = '/Users/bjcliang/Desktop/Nate/Census/Surveys2022'\n",
    "record = dict()\n",
    "record[''] = dict()\n",
    "record[''][''] = []\n",
    "\n",
    "for pdf_file in os.listdir(pdf_directory):\n",
    "    if pdf_file.endswith('.pdf'):\n",
    "        pdf_path = os.path.join(pdf_directory, pdf_file)\n",
    "        print(pdf_path, end = '\\r')\n",
    "        \n",
    "        #if pdf_file == 'IN-51821SU.pdf': break\n",
    "        read_pdf2022(pdf_path, record, pdf_file)\n",
    "        #if 'ITEM 8' in record: print(pdf_file, record['ITEM 8'])"
   ]
  },
  {
   "cell_type": "code",
   "execution_count": 5,
   "metadata": {},
   "outputs": [],
   "source": [
    "with open('/Users/bjcliang/Desktop/Nate/Census/Surveys2022/rec.json', 'w') as json_file:\n",
    "    json.dump(record, json_file)"
   ]
  },
  {
   "cell_type": "markdown",
   "metadata": {},
   "source": [
    "# Clean Data"
   ]
  },
  {
   "cell_type": "code",
   "execution_count": 1,
   "metadata": {},
   "outputs": [],
   "source": [
    "import time, os, json, PyPDF2, re, docx\n",
    "import pandas as pd"
   ]
  },
  {
   "cell_type": "code",
   "execution_count": 2,
   "metadata": {},
   "outputs": [],
   "source": [
    "def find_item_number(sentence):\n",
    "    pattern = r'(ITEM \\d+)(.*)'\n",
    "    match = re.search(pattern, sentence)\n",
    "    if match:\n",
    "        return (re.sub(match.group(0), '', sentence), match.group(1), match.group(0))"
   ]
  },
  {
   "cell_type": "code",
   "execution_count": 40,
   "metadata": {},
   "outputs": [],
   "source": [
    "def general_process(text):\n",
    "    def replace_repeated_num(text):\n",
    "        pattern = r'(\\b\\d\\.\\s)+'\n",
    "        def replacement(match):\n",
    "            number = match.group(1).strip()\n",
    "            return f'\\n{number}'\n",
    "        return re.sub(pattern, replacement, text)\n",
    "    \n",
    "    def replace_repeated_string(text):\n",
    "        pattern = r'(\\b[A-Za-z\\s]+[A-Za-z]+\\.\\s)\\1+'\n",
    "\n",
    "        def replacement(match):\n",
    "            # Extract the first occurrence\n",
    "            first_occurrence = match.group(1)\n",
    "            return f'{first_occurrence.strip()}\\n'\n",
    "        return re.sub(pattern, replacement, text)\n",
    "    \n",
    "    \n",
    "    text = re.sub(r'\\s+', ' ', text)\n",
    "    text = replace_repeated_num(text)\n",
    "    text = replace_repeated_string(text)\n",
    "    text = re.sub('\\n', ' ', text)\n",
    "    pattern = r'[\\w-]*\\.pdf Generated \\d{4}-\\d{2}-\\d{2} \\d{2}:\\d{2}:\\d{2}'\n",
    "    text = re.sub(pattern, 'mmmmm', text)\n",
    "    text = text.split('mmmmm')[0]\n",
    "    text = text.split('Do Not Submit')[0]\n",
    "    #pattern = r'\\b(?!ZIP|EIN|CFN|IRS|LONG|DISTANCE|LOCAL|TOTAL)([A-Z]{2,}\\b(?:\\s[A-Z]{2,}\\b)*)'\n",
    "    #text = re.sub(pattern, r'\\n\\1', text)\n",
    "    text = text.split('Select ALL that apply.')[0]\n",
    "    text = text.split('Description Description Value Value Product Code Product Code')[0]\n",
    "    text = text.split('Select only ONE.')[0]\n",
    "    \n",
    "    text = re.sub('INSTRUCTIONS FOR ADMINISTRATIVE EXPENSES', '\\nINSTRUCTIONS FOR ADMINISTRATIVE EXPENSES ', text)\n",
    "    pattern = r'(\\b\\w+\\. )(\\1)+'\n",
    "    text = re.sub(pattern, r'\\1', text)\n",
    "    pattern = r'(\\d+\\.\\s*[A-Z])'\n",
    "    text = re.sub(pattern, r'\\n\\1', text)\n",
    "    \n",
    "    pattern = r'(\\s+\\d+)$'\n",
    "    text = re.sub(pattern, '', text.strip())\n",
    "    \n",
    "    a = 'primary kind of business or activity in 2022?'\n",
    "    if a in text: text = text.split(a)[0]+a\n",
    "    text = text.split('Description Value Product Code')[0]\n",
    "    text = text.split('Products or Services not listed?')[0]\n",
    "    \n",
    "    return text.strip()"
   ]
  },
  {
   "cell_type": "code",
   "execution_count": 4,
   "metadata": {},
   "outputs": [
    {
     "data": {
      "text/plain": [
       "dict_keys(['', 'ITEM 1', 'ITEM 2A', 'ITEM 2B', 'ITEM 2C', 'ITEM 2D', 'ITEM 2E', 'separate locations for the purpose of this report Data for of fices that share a common fleet should be included with the controlling main or branch location for that metropolitan areaITEM 2F', 'ITEM 3A', 'ITEM 3B', 'ITEM 4', 'ITEM 5', 'AITEM 7', 'ITEM 20', 'ITEM 22', 'AITEM 25', 'ITEM 26', 'ITEM 28', '1ITEM 29', 'ITEM 29', 'ITEM 31', 'ITEM 32', 'last', 'ITEM 7', 'ITEM 33', 'ITEM 33A', 'ITEM 33B', 'ITEM 2F', 'ITEM 8', 'ITEM 16', 'AITEM 28', 'BITEM 28', 'ITEM 4A', 'ITEM 4B', 'CITEM 28', 'locations should be included with the controlling headquarters or branch locationITEM 2F', 'medical facilities (eg, anesthesiologists, physical therapists) should not consider these facilities as separate of fice locationsITEM 2F', 'separate establishments Data for these locations should be included with the plant in which the work is actually doneITEM 2F', 'Temporary branch or field of fices should not be considered separate locations Data for such sites should be included with the controlling headquarters or branch locationITEM 2F', 'Legal aid societies should report total revenue, including contributions, gifts, and grants, in the space provided for sales, shipments, receipts, or revenueITEM 2F'])"
      ]
     },
     "execution_count": 4,
     "metadata": {},
     "output_type": "execute_result"
    }
   ],
   "source": [
    "record = json.load(open('/Users/bjcliang/Desktop/Nate/Census/Surveys2022/rec.json'))\n",
    "record.keys()"
   ]
  },
  {
   "cell_type": "code",
   "execution_count": 41,
   "metadata": {},
   "outputs": [],
   "source": [
    "rec_new = dict()\n",
    "for item in record:\n",
    "    if item == '': continue\n",
    "    if item == 'last': continue\n",
    "    add, superitem, item_n = find_item_number(item)\n",
    "    \n",
    "    if superitem not in rec_new: rec_new[superitem] = dict()\n",
    "    for title in record[item]:\n",
    "            \n",
    "        for txt in record[item][title]:\n",
    "            #print(txt)\n",
    "            name, t = txt.split('.pdf\\t\\t\\t\\n')\n",
    "            ntitle = item_n + ': ' + title\n",
    "            if ntitle not in rec_new[superitem]: rec_new[superitem][ntitle] = dict()\n",
    "            t = general_process(t)\n",
    "            if t not in rec_new[superitem][ntitle]: rec_new[superitem][ntitle][t] = []\n",
    "            rec_new[superitem][ntitle][t].append(name)"
   ]
  },
  {
   "cell_type": "code",
   "execution_count": 44,
   "metadata": {},
   "outputs": [],
   "source": [
    "from docx.oxml.ns import qn\n",
    "from docx.shared import Pt\n",
    "\n",
    "def create_word_document_from_dict(data, path):\n",
    "    doc = docx.Document()\n",
    "    doc.add_heading('Economic Census Surveys 2022 (Services)', level=1)\n",
    "    \n",
    "    for superitem in sorted(data.keys(), key = lambda x: x[-2:]):\n",
    "        items = data[superitem]\n",
    "        if len(data[superitem])==1:\n",
    "            newitem = list(data[superitem].keys())[0]\n",
    "            doc.add_heading(newitem, level=2)\n",
    "            details = data[superitem][newitem]\n",
    "            \n",
    "            for key in details:\n",
    "                doc.add_paragraph(key).style='List Bullet'\n",
    "                surveys = ', '.join(details[key])\n",
    "                p = doc.add_paragraph()\n",
    "                p = p.add_run(f'Surveys included: {surveys}')\n",
    "                p.font.size = Pt(9)\n",
    "                #p.italic = True\n",
    "            \n",
    "        \n",
    "        else:\n",
    "            doc.add_heading(superitem, level=2)\n",
    "            for item_index, (item, details) in enumerate(items.items(), start=1):\n",
    "                if len(details) == 1:\n",
    "                    key = list(details)[0]\n",
    "                    doc.add_heading(item, level=3)\n",
    "                    doc.add_paragraph(key).style='List Bullet'\n",
    "                    surveys = ', '.join(details[key])\n",
    "                    p = doc.add_paragraph()\n",
    "                    p = p.add_run(f'Surveys included: {surveys}')\n",
    "                    p.font.size = Pt(9)\n",
    "                    \n",
    "                \n",
    "                else: \n",
    "                    doc.add_heading(item, level=3)\n",
    "                    #doc.add_paragraph(item).style='List Bullet'\n",
    "\n",
    "                    for key in details:\n",
    "                        doc.add_paragraph(key).style='List Bullet 2'\n",
    "                        surveys = ', '.join(details[key])\n",
    "                        p = doc.add_paragraph()\n",
    "                        p = p.add_run(f'Surveys included: {surveys}')\n",
    "                        p.font.size = Pt(9)\n",
    "                #p.italic = True   \n",
    "\n",
    "    # Save the document\n",
    "    doc.save(path)\n",
    "\n",
    "create_word_document_from_dict(rec_new, 'Economic Census Surveys 2022.docx')"
   ]
  },
  {
   "cell_type": "code",
   "execution_count": null,
   "metadata": {},
   "outputs": [],
   "source": []
  }
 ],
 "metadata": {
  "kernelspec": {
   "display_name": "Python 3",
   "language": "python",
   "name": "python3"
  },
  "language_info": {
   "codemirror_mode": {
    "name": "ipython",
    "version": 3
   },
   "file_extension": ".py",
   "mimetype": "text/x-python",
   "name": "python",
   "nbconvert_exporter": "python",
   "pygments_lexer": "ipython3",
   "version": "3.8.5"
  }
 },
 "nbformat": 4,
 "nbformat_minor": 4
}
